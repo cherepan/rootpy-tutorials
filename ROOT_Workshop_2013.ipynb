{
 "metadata": {
  "name": "ROOT_Workshop_2013"
 },
 "nbformat": 3,
 "nbformat_minor": 0,
 "worksheets": [
  {
   "cells": [
    {
     "cell_type": "heading",
     "level": 1,
     "metadata": {},
     "source": [
      "Code Examples from the ROOT Workshop 2013 Presentation"
     ]
    },
    {
     "cell_type": "markdown",
     "metadata": {},
     "source": [
      "These are the code examples from Noel Dawe's presentation on [\"rootpy: Pythonic ROOT\"](https://indico.cern.ch/contributionDisplay.py?contribId=15&confId=217511) at the\n",
      "ROOT Users Workshop, Saas-Fee in March 2013."
     ]
    },
    {
     "cell_type": "heading",
     "level": 3,
     "metadata": {},
     "source": [
      "Slide 7 \u2013 Histograms"
     ]
    },
    {
     "cell_type": "code",
     "collapsed": false,
     "input": [
      "from ROOT import TH3D\n",
      "from array import array\n",
      "# variable width bins\n",
      "hist3d = TH3D('3d', '3d', 3, array('d', [0, 3, 10, 100]),\n",
      "                          5, array('d', [2.3, 4.2, 5.8, 10, 20, 25.5]),\n",
      "                          2, array('d', [-100, 0, 20]))\n",
      "# ROOT is missing some constructors... (the following will not work)\n",
      "# hist3d = TH3D('3d', '3d', 3, 0, 5,\n",
      "#                           5, array('d', [2.3, 4.2, 5.8, 10, 20, 25.5]),\n",
      "#                           2, array('d', [-100, 0, 20]))"
     ],
     "language": "python",
     "metadata": {},
     "outputs": [],
     "prompt_number": 1
    },
    {
     "cell_type": "code",
     "collapsed": false,
     "input": [
      "from rootpy.plotting import Hist3D\n",
      "# variable width bins\n",
      "hist3d = Hist3D([0, 3, 10, 100], [2.3, 4.2, 5.8, 10, 20, 25.5], [-100, 0, 20])\n",
      "# easy to mix variable and fixed width bins with rootpy\n",
      "hist3d = Hist3D(3, 0, 5, [2.3, 4.2, 5.8, 10, 20, 25.5], [-100, 0, 20])"
     ],
     "language": "python",
     "metadata": {},
     "outputs": [],
     "prompt_number": 2
    },
    {
     "cell_type": "heading",
     "level": 3,
     "metadata": {},
     "source": [
      "Slide 8 \u2013 Histograms and Style"
     ]
    },
    {
     "cell_type": "code",
     "collapsed": false,
     "input": [
      "from rootpy.plotting import Hist2D\n",
      "hist = Hist2D(10, 0, 1, 5, 0, 1, type='F')\n",
      "hist.__class__.__bases__[-1].__name__"
     ],
     "language": "python",
     "metadata": {},
     "outputs": [
      {
       "output_type": "pyout",
       "prompt_number": 3,
       "text": [
        "'TH2F'"
       ]
      }
     ],
     "prompt_number": 3
    },
    {
     "cell_type": "code",
     "collapsed": false,
     "input": [
      "# Attributes can be accessed via properties\n",
      "hist.title = 'Fit Result'\n",
      "hist.fillstyle = 'solid'\n",
      "color = hist.linecolor"
     ],
     "language": "python",
     "metadata": {},
     "outputs": [],
     "prompt_number": 4
    },
    {
     "cell_type": "code",
     "collapsed": false,
     "input": [
      "# Colors can also be set using hex, RGB tuples, or SVG names\n",
      "hist.fillcolor = (32, 178, 170)\n",
      "hist.linecolor = '#87cefa'\n",
      "hist.markercolor = 'salmon'"
     ],
     "language": "python",
     "metadata": {},
     "outputs": [],
     "prompt_number": 5
    },
    {
     "cell_type": "heading",
     "level": 3,
     "metadata": {},
     "source": [
      "Slide 9 \u2013 Cuts"
     ]
    },
    {
     "cell_type": "code",
     "collapsed": false,
     "input": [
      "from ROOT import TCut\n",
      "cut1 = TCut('a<10')\n",
      "cut2 = TCut('b%2==0')\n",
      "cut = TCut('(%s)&&(%s)' % (\n",
      "cut1.GetTitle(),\n",
      "cut2.GetTitle()))\n",
      "print cut.GetTitle()"
     ],
     "language": "python",
     "metadata": {},
     "outputs": [
      {
       "output_type": "stream",
       "stream": "stdout",
       "text": [
        "(a<10)&&(b%2==0)\n"
       ]
      }
     ],
     "prompt_number": 6
    },
    {
     "cell_type": "code",
     "collapsed": false,
     "input": [
      "from rootpy.tree import Cut\n",
      "cut1 = Cut('a < 10')\n",
      "cut2 = Cut('b % 2 == 0')\n",
      "cut = cut1 & cut2\n",
      "print cut\n",
      "# expansion of ternary conditions\n",
      "cut3 = Cut('10 < a < 20')\n",
      "print cut3\n",
      "# easily combine cuts arbitrarily\n",
      "cut = ((cut1 & cut2) | - cut3)\n",
      "print cut"
     ],
     "language": "python",
     "metadata": {},
     "outputs": [
      {
       "output_type": "stream",
       "stream": "stdout",
       "text": [
        "(a<10)&&(b%2==0)\n",
        "(10<a)&&(a<20)\n",
        "((a<10)&&(b%2==0))||(!((10<a)&&(a<20)))\n"
       ]
      }
     ],
     "prompt_number": 7
    },
    {
     "cell_type": "heading",
     "level": 3,
     "metadata": {},
     "source": [
      "Slide 10 \u2013 PyROOT: Opening a TFile"
     ]
    },
    {
     "cell_type": "code",
     "collapsed": false,
     "input": [
      "# You have to select \"Kernel -> Restart\" before executing this cell to get rid\n",
      "# of the ROOT error behaviour modifications that were introduced above by\n",
      "# >>> import rootpy"
     ],
     "language": "python",
     "metadata": {},
     "outputs": [],
     "prompt_number": 1
    },
    {
     "cell_type": "code",
     "collapsed": false,
     "input": [
      "# The ROOT error statement appears on the console where you started the ipython notebook:\n",
      "# Error in <TFile::TFile>: file file_does_not_exist.root does not exist\n",
      "\"\"\"\n",
      "ROOT is unable to open the file of course and emits an error message but an\n",
      "exception is not raised at this point leading to (sometimes difficult to\n",
      "intepret) issues downsream:\n",
      "\"\"\"\n",
      "from ROOT import TFile\n",
      "myfile = TFile.Open(\"file_does_not_exist.root\") # Error should occur here ...\n",
      "print myfile\n",
      "myfile.Get(\"something\") # ... but it does occur here."
     ],
     "language": "python",
     "metadata": {},
     "outputs": [
      {
       "ename": "ReferenceError",
       "evalue": "attempt to access a null-pointer",
       "output_type": "pyerr",
       "traceback": [
        "\u001b[0;31m---------------------------------------------------------------------------\u001b[0m\n\u001b[0;31mReferenceError\u001b[0m                            Traceback (most recent call last)",
        "\u001b[0;32m<ipython-input-2-8e6e87e92155>\u001b[0m in \u001b[0;36m<module>\u001b[0;34m()\u001b[0m\n\u001b[1;32m      9\u001b[0m \u001b[0mmyfile\u001b[0m \u001b[0;34m=\u001b[0m \u001b[0mTFile\u001b[0m\u001b[0;34m.\u001b[0m\u001b[0mOpen\u001b[0m\u001b[0;34m(\u001b[0m\u001b[0;34m\"file_does_not_exist.root\"\u001b[0m\u001b[0;34m)\u001b[0m\u001b[0;34m\u001b[0m\u001b[0m\n\u001b[1;32m     10\u001b[0m \u001b[0;32mprint\u001b[0m \u001b[0mmyfile\u001b[0m\u001b[0;34m\u001b[0m\u001b[0m\n\u001b[0;32m---> 11\u001b[0;31m \u001b[0mmyfile\u001b[0m\u001b[0;34m.\u001b[0m\u001b[0mGet\u001b[0m\u001b[0;34m(\u001b[0m\u001b[0;34m\"something\"\u001b[0m\u001b[0;34m)\u001b[0m\u001b[0;34m\u001b[0m\u001b[0m\n\u001b[0m",
        "\u001b[0;31mReferenceError\u001b[0m: attempt to access a null-pointer"
       ]
      },
      {
       "output_type": "stream",
       "stream": "stdout",
       "text": [
        "<ROOT.TFile object at 0x0>\n"
       ]
      }
     ],
     "prompt_number": 2
    },
    {
     "cell_type": "heading",
     "level": 3,
     "metadata": {},
     "source": [
      "Slide 11 \u2013 rootpy: Opening a TFile"
     ]
    },
    {
     "cell_type": "code",
     "collapsed": false,
     "input": [
      "\"\"\"\n",
      "rootpy routes ROOT messages through Python\u2018s logging system and raises error\n",
      "messages as Python exceptions at the point of failure:\n",
      "\"\"\"\n",
      "from rootpy.io import root_open\n",
      "myfile = root_open(\"file_does_not_exist.root\") # Error occurs here as it should\n",
      "# The following code is not executed\n",
      "print myfile\n",
      "myfile.Get(\"something\")"
     ],
     "language": "python",
     "metadata": {},
     "outputs": [
      {
       "output_type": "stream",
       "stream": "stderr",
       "text": [
        "INFO:rootpy.logger] | No default log handler configured. See `logging` module |\n"
       ]
      },
      {
       "output_type": "stream",
       "stream": "stderr",
       "text": [
        "INFO:rootpy.logger] \\    To suppress: 'rootpy.log.basic_config_colorized()'   /\n"
       ]
      },
      {
       "output_type": "stream",
       "stream": "stderr",
       "text": [
        "ERROR:ROOT.TFile.TFile] file file_does_not_exist.root does not exist\n"
       ]
      },
      {
       "ename": "ROOTError",
       "evalue": "level=3000, loc='TFile::TFile', msg='file file_does_not_exist.root does not exist'",
       "output_type": "pyerr",
       "traceback": [
        "\u001b[0;31m---------------------------------------------------------------------------\u001b[0m\n\u001b[0;31mROOTError\u001b[0m                                 Traceback (most recent call last)",
        "\u001b[0;32m<ipython-input-3-78967e0646ca>\u001b[0m in \u001b[0;36m<module>\u001b[0;34m()\u001b[0m\n\u001b[1;32m      4\u001b[0m \"\"\"\n\u001b[1;32m      5\u001b[0m \u001b[0;32mfrom\u001b[0m \u001b[0mrootpy\u001b[0m\u001b[0;34m.\u001b[0m\u001b[0mio\u001b[0m \u001b[0;32mimport\u001b[0m \u001b[0mroot_open\u001b[0m\u001b[0;34m\u001b[0m\u001b[0m\n\u001b[0;32m----> 6\u001b[0;31m \u001b[0mmyfile\u001b[0m \u001b[0;34m=\u001b[0m \u001b[0mroot_open\u001b[0m\u001b[0;34m(\u001b[0m\u001b[0;34m\"file_does_not_exist.root\"\u001b[0m\u001b[0;34m)\u001b[0m \u001b[0;31m# Error occurs here as it should\u001b[0m\u001b[0;34m\u001b[0m\u001b[0m\n\u001b[0m\u001b[1;32m      7\u001b[0m \u001b[0;31m# The following code is not executed\u001b[0m\u001b[0;34m\u001b[0m\u001b[0;34m\u001b[0m\u001b[0m\n\u001b[1;32m      8\u001b[0m \u001b[0;32mprint\u001b[0m \u001b[0mmyfile\u001b[0m\u001b[0;34m\u001b[0m\u001b[0m\n",
        "\u001b[0;32m/Users/deil/Library/Python/2.7/lib/python/site-packages/rootpy-dev-py2.7.egg/rootpy/io/file.pyc\u001b[0m in \u001b[0;36mroot_open\u001b[0;34m(filename, mode)\u001b[0m\n\u001b[1;32m    222\u001b[0m \u001b[0;34m\u001b[0m\u001b[0m\n\u001b[1;32m    223\u001b[0m     \u001b[0mfilename\u001b[0m \u001b[0;34m=\u001b[0m \u001b[0mpath\u001b[0m\u001b[0;34m.\u001b[0m\u001b[0mexpand\u001b[0m\u001b[0;34m(\u001b[0m\u001b[0mfilename\u001b[0m\u001b[0;34m)\u001b[0m\u001b[0;34m\u001b[0m\u001b[0m\n\u001b[0;32m--> 224\u001b[0;31m     \u001b[0mroot_file\u001b[0m \u001b[0;34m=\u001b[0m \u001b[0mROOT\u001b[0m\u001b[0;34m.\u001b[0m\u001b[0mTFile\u001b[0m\u001b[0;34m.\u001b[0m\u001b[0mOpen\u001b[0m\u001b[0;34m(\u001b[0m\u001b[0mfilename\u001b[0m\u001b[0;34m,\u001b[0m \u001b[0mmode\u001b[0m\u001b[0;34m)\u001b[0m\u001b[0;34m\u001b[0m\u001b[0m\n\u001b[0m\u001b[1;32m    225\u001b[0m     \u001b[0;31m# fix evil segfault after attempt to open bad file in 5.30\u001b[0m\u001b[0;34m\u001b[0m\u001b[0;34m\u001b[0m\u001b[0m\n\u001b[1;32m    226\u001b[0m     \u001b[0;31m# this fix is not needed in 5.32\u001b[0m\u001b[0;34m\u001b[0m\u001b[0;34m\u001b[0m\u001b[0m\n",
        "\u001b[0;32m/Users/deil/Library/Python/2.7/lib/python/site-packages/rootpy-dev-py2.7.egg/rootpy/io/file.pyc\u001b[0m in \u001b[0;36mroot_open\u001b[0;34m(filename, mode)\u001b[0m\n\u001b[1;32m    222\u001b[0m \u001b[0;34m\u001b[0m\u001b[0m\n\u001b[1;32m    223\u001b[0m     \u001b[0mfilename\u001b[0m \u001b[0;34m=\u001b[0m \u001b[0mpath\u001b[0m\u001b[0;34m.\u001b[0m\u001b[0mexpand\u001b[0m\u001b[0;34m(\u001b[0m\u001b[0mfilename\u001b[0m\u001b[0;34m)\u001b[0m\u001b[0;34m\u001b[0m\u001b[0m\n\u001b[0;32m--> 224\u001b[0;31m     \u001b[0mroot_file\u001b[0m \u001b[0;34m=\u001b[0m \u001b[0mROOT\u001b[0m\u001b[0;34m.\u001b[0m\u001b[0mTFile\u001b[0m\u001b[0;34m.\u001b[0m\u001b[0mOpen\u001b[0m\u001b[0;34m(\u001b[0m\u001b[0mfilename\u001b[0m\u001b[0;34m,\u001b[0m \u001b[0mmode\u001b[0m\u001b[0;34m)\u001b[0m\u001b[0;34m\u001b[0m\u001b[0m\n\u001b[0m\u001b[1;32m    225\u001b[0m     \u001b[0;31m# fix evil segfault after attempt to open bad file in 5.30\u001b[0m\u001b[0;34m\u001b[0m\u001b[0;34m\u001b[0m\u001b[0m\n\u001b[1;32m    226\u001b[0m     \u001b[0;31m# this fix is not needed in 5.32\u001b[0m\u001b[0;34m\u001b[0m\u001b[0;34m\u001b[0m\u001b[0m\n",
        "\u001b[0;32m/Users/deil/Library/Python/2.7/lib/python/site-packages/rootpy-dev-py2.7.egg/rootpy/logger/roothandler.pyc\u001b[0m in \u001b[0;36mpython_logging_error_handler\u001b[0;34m(level, root_says_abort, location, msg)\u001b[0m\n\u001b[1;32m     89\u001b[0m             \u001b[0;31m# Hence the need for dark magic, we re-raise it within a trace.\u001b[0m\u001b[0;34m\u001b[0m\u001b[0;34m\u001b[0m\u001b[0m\n\u001b[1;32m     90\u001b[0m             \u001b[0;32mfrom\u001b[0m \u001b[0mrootpy\u001b[0m \u001b[0;32mimport\u001b[0m \u001b[0mROOTError\u001b[0m\u001b[0;34m\u001b[0m\u001b[0m\n\u001b[0;32m---> 91\u001b[0;31m             \u001b[0;32mraise\u001b[0m \u001b[0mROOTError\u001b[0m\u001b[0;34m(\u001b[0m\u001b[0mlevel\u001b[0m\u001b[0;34m,\u001b[0m \u001b[0mlocation\u001b[0m\u001b[0;34m,\u001b[0m \u001b[0mmsg\u001b[0m\u001b[0;34m)\u001b[0m\u001b[0;34m\u001b[0m\u001b[0m\n\u001b[0m\u001b[1;32m     92\u001b[0m         \u001b[0;32mexcept\u001b[0m \u001b[0mRuntimeError\u001b[0m\u001b[0;34m:\u001b[0m\u001b[0;34m\u001b[0m\u001b[0m\n\u001b[1;32m     93\u001b[0m             \u001b[0m_\u001b[0m\u001b[0;34m,\u001b[0m \u001b[0mexc\u001b[0m\u001b[0;34m,\u001b[0m \u001b[0mtraceback\u001b[0m \u001b[0;34m=\u001b[0m \u001b[0msys\u001b[0m\u001b[0;34m.\u001b[0m\u001b[0mexc_info\u001b[0m\u001b[0;34m(\u001b[0m\u001b[0;34m)\u001b[0m\u001b[0;34m\u001b[0m\u001b[0m\n",
        "\u001b[0;31mROOTError\u001b[0m: level=3000, loc='TFile::TFile', msg='file file_does_not_exist.root does not exist'"
       ]
      }
     ],
     "prompt_number": 3
    },
    {
     "cell_type": "heading",
     "level": 3,
     "metadata": {},
     "source": [
      "Slide 12 \u2013 rootpy: Navigating a TFile"
     ]
    },
    {
     "cell_type": "code",
     "collapsed": false,
     "input": [
      "from rootpy.testdata import get_file\n",
      "# use the test file shipped with rootpy\n",
      "with get_file() as f:\n",
      "    # access objects by name as properties of the current dir\n",
      "    myhist = f.dimensions.hist2d\n",
      "    # recursively walk through the file\n",
      "    for path, dirs, objects in f.walk():\n",
      "        # do something\n",
      "        print path, dirs, objects"
     ],
     "language": "python",
     "metadata": {},
     "outputs": [
      {
       "output_type": "stream",
       "stream": "stdout",
       "text": [
        " ['dimensions', 'scales', 'means', 'graphs', 'gaps', 'efficiencies'] []\n",
        "dimensions [] ['hist2d', 'hist3d']\n",
        "scales [] ['hist1', 'hist3', 'hist2', 'hist4']\n",
        "means [] ['hist1', 'hist3', 'hist2', 'hist4']\n",
        "graphs [] ['tgrapherrors', 'tgraph2d', 'tgraphasymmerrors', 'tgraph']\n",
        "gaps [] ['hist1', 'hist3', 'hist2', 'hist4']\n",
        "efficiencies [] ['hist1', 'hist3', 'hist2', 'hist4', 'eff3v1', 'eff2v1', 'eff4v1']\n"
       ]
      }
     ],
     "prompt_number": 4
    },
    {
     "cell_type": "heading",
     "level": 3,
     "metadata": {},
     "source": [
      "Slide 13 \u2013 PyROOT: Filling a TTree"
     ]
    },
    {
     "cell_type": "code",
     "collapsed": false,
     "input": [
      "from ROOT import TFile, TTree\n",
      "from array import array\n",
      "from random import gauss\n",
      "\n",
      "output_file = TFile.Open('output.root', 'recreate')\n",
      "\n",
      "some_float = array('f', [0.])\n",
      "some_int = array('i', [0])\n",
      "tree = TTree('mytree', '')\n",
      "tree.Branch('some_float', some_float, 'some_float/F')\n",
      "tree.Branch('some_int', some_int, 'some_int/I')\n",
      "\n",
      "for i in xrange(100):\n",
      "    some_float[0] = gauss(0, 1)\n",
      "    some_int[0] = i\n",
      "    tree.Fill()\n",
      "\n",
      "tree.Write()\n",
      "output_file.Close()"
     ],
     "language": "python",
     "metadata": {},
     "outputs": [],
     "prompt_number": 5
    },
    {
     "cell_type": "heading",
     "level": 3,
     "metadata": {},
     "source": [
      "Slide 14 \u2013 rootpy: Filling a TTree"
     ]
    },
    {
     "cell_type": "code",
     "collapsed": false,
     "input": [
      "from rootpy.io import root_open\n",
      "from rootpy.tree import Tree\n",
      "from random import gauss\n",
      "\n",
      "output_file = root_open('output.root', 'recreate')\n",
      "\n",
      "tree = Tree('mytree')\n",
      "tree.create_branches(\n",
      "    {'some_float': 'F',\n",
      "     'some_int'  : 'I'})\n",
      "\n",
      "for i in xrange(10000):\n",
      "    tree.some_float = gauss(.5, 1.)\n",
      "    tree.some_int = i\n",
      "    tree.fill()\n",
      "\n",
      "tree.write()\n",
      "output_file.close()"
     ],
     "language": "python",
     "metadata": {},
     "outputs": [],
     "prompt_number": 8
    },
    {
     "cell_type": "heading",
     "level": 3,
     "metadata": {},
     "source": [
      "Slide 15 \u2013 rootpy: Tree Models"
     ]
    },
    {
     "cell_type": "code",
     "collapsed": false,
     "input": [
      "from rootpy.tree import TreeModel\n",
      "from rootpy.types import FloatCol\n",
      "from rootpy.types import IntCol\n",
      "\n",
      "class FourVect(TreeModel):\n",
      "    eta = FloatCol(default=-1111.)\n",
      "    phi = FloatCol(default=-1111.)\n",
      "    pt = FloatCol()\n",
      "    m = FloatCol()\n",
      "\n",
      "class Tau(FourVect):\n",
      "    numtrack = IntCol()\n",
      "\n",
      "class Event(Tau.prefix('tau1_'),\n",
      "            Tau.prefix('tau2_')):\n",
      "    event_number = IntCol()\n",
      "    run_number = IntCol()\n",
      "\n",
      "# tree = Tree(\u2019data\u2019, model=Event)\n",
      "print Event"
     ],
     "language": "python",
     "metadata": {},
     "outputs": [
      {
       "output_type": "stream",
       "stream": "stdout",
       "text": [
        "event_number -> IntCol()\n",
        "run_number -> IntCol()\n",
        "tau1_eta -> FloatCol(default=-1111.0)\n",
        "tau1_m -> FloatCol()\n",
        "tau1_numtrack -> IntCol()\n",
        "tau1_phi -> FloatCol(default=-1111.0)\n",
        "tau1_pt -> FloatCol()\n",
        "tau2_eta -> FloatCol(default=-1111.0)\n",
        "tau2_m -> FloatCol()\n",
        "tau2_numtrack -> IntCol()\n",
        "tau2_phi -> FloatCol(default=-1111.0)\n",
        "tau2_pt -> FloatCol()\n"
       ]
      }
     ],
     "prompt_number": 9
    },
    {
     "cell_type": "heading",
     "level": 3,
     "metadata": {},
     "source": [
      "Slide 16 \u2013 Memory issues? Solved."
     ]
    },
    {
     "cell_type": "code",
     "collapsed": false,
     "input": [
      "from ROOT import TCanvas, TH1D\n",
      "\n",
      "def make_plot():\n",
      "    canvas = TCanvas('plot', 'plot',\n",
      "                     700, 500)\n",
      "    hist = TH1D('hist', 'plot',\n",
      "                10, -3, 3)\n",
      "    hist.FillRandom('gaus')\n",
      "    hist.Draw()\n",
      "    return canvas\n",
      "\n",
      "canvas = make_plot()\n",
      "\n",
      "# Note: you should copy & paste the following example into a terminal,\n",
      "# in the IPython notebook the hist will not be garbage collected\n",
      "# for some reason (probably IPython keeps a reference or modifies\n",
      "# Python garbage collection),\n",
      "# plus raw_input() will issue a StdinNotImplementedError\n",
      "\n",
      "is_in_ipython_notebook = True\n",
      "\n",
      "if not is_in_ipython_notebook:\n",
      "    # empty canvas since the histogram\n",
      "    # has been garbage collected!\n",
      "    canvas.Draw()\n",
      "    # hack to keep Python from exiting\n",
      "    # while the canvas is displayed\n",
      "    raw_input()"
     ],
     "language": "python",
     "metadata": {},
     "outputs": [],
     "prompt_number": 22
    },
    {
     "cell_type": "code",
     "collapsed": false,
     "input": [
      "# This example works also in the IPython shell or notebook.\n",
      "from rootpy.plotting import Canvas, Hist\n",
      "from rootpy.interactive import wait\n",
      "\n",
      "def make_plot():\n",
      "    canvas = Canvas(700, 500)\n",
      "    hist = Hist(10, -3, 3)\n",
      "    hist.FillRandom('gaus')\n",
      "    hist.Draw()\n",
      "    return canvas\n",
      "\n",
      "canvas = make_plot()\n",
      "\n",
      "# The following two commands are not needed in the IPython\n",
      "# notebook, but they don't hurt either ...\n",
      "canvas.Draw()\n",
      "wait()"
     ],
     "language": "python",
     "metadata": {},
     "outputs": [],
     "prompt_number": 23
    }
   ],
   "metadata": {}
  }
 ]
}