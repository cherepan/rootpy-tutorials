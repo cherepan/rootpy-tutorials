{
 "metadata": {
  "name": "scientific_python"
 },
 "nbformat": 3,
 "nbformat_minor": 0,
 "worksheets": [
  {
   "cells": [
    {
     "cell_type": "heading",
     "level": 1,
     "metadata": {},
     "source": [
      "Scientific Python Tutorial"
     ]
    },
    {
     "cell_type": "markdown",
     "metadata": {},
     "source": [
      "This is a basic introduction to scientific computing in Python.\n",
      "\n",
      "This is an [IPython](http://ipython.org) [notebook](http://ipython.org/ipython-doc/dev/interactive/htmlnotebook.html),\n",
      "i.e. to learn you can execute and modify the examples.\n",
      "\n",
      "If you haven't used [Python](http://www.python.org) or [IPython](http://ipython.org) before, please have a look at `python_introduction.ipynb` first.\n",
      "\n",
      "We will first give an introduction to [numpy](http://numpy.scipy.org) and then showcase the following scientific data analysis packages:\n",
      "\n",
      "* [scipy](http://docs.scipy.org/doc/scipy/reference/)\n",
      "* [matplotlib](http://matplotlib.org)\n",
      "* [pandas](http://pandas.pydata.org)\n",
      "* [scikit-image](http://scikit-image.org)\n",
      "* [scikit-learn](http://scikit-learn.org)\n",
      "\n",
      "Want to learn more?\n",
      "\n",
      "* [\"Python for Data Analysis\"](http://shop.oreilly.com/product/0636920023784.do) by [Wes McKinney](http://wesmckinney.com/blog/)\n",
      "* http://docs.python.org/2/tutorial/\n",
      "* http://scipy-lectures.github.com\n",
      "* http://python4astronomers.github.com\n",
      "* http://astroml.github.com"
     ]
    },
    {
     "cell_type": "heading",
     "level": 2,
     "metadata": {},
     "source": [
      "Numpy"
     ]
    },
    {
     "cell_type": "code",
     "collapsed": false,
     "input": [
      "# The most important object in numpy is the ndarray.\n",
      "# This is the basic data container all scientific Python packages use\n",
      "import numpy as np\n",
      "x = np.array([1., 2, 3])\n",
      "print x\n",
      "print x.shape\n",
      "print x.size\n",
      "print x.dtype"
     ],
     "language": "python",
     "metadata": {},
     "outputs": [
      {
       "output_type": "stream",
       "stream": "stdout",
       "text": [
        "[ 1.  2.  3.]\n",
        "(3,)\n",
        "3\n",
        "float64\n"
       ]
      }
     ],
     "prompt_number": 1
    },
    {
     "cell_type": "code",
     "collapsed": false,
     "input": [
      "y = np.array([[1,2,3],[4,5,6]])\n",
      "print y\n",
      "print y.shape\n",
      "print y.size\n",
      "print y.dtype"
     ],
     "language": "python",
     "metadata": {},
     "outputs": [
      {
       "output_type": "stream",
       "stream": "stdout",
       "text": [
        "[[1 2 3]\n",
        " [4 5 6]]\n",
        "(2, 3)\n",
        "6\n",
        "int64\n"
       ]
      }
     ],
     "prompt_number": 2
    },
    {
     "cell_type": "code",
     "collapsed": false,
     "input": [
      "# Other ways to create arrays\n",
      "print np.arange(0, 2, 0.5)\n",
      "print np.zeros(7)\n",
      "print np.ones((3, 4))"
     ],
     "language": "python",
     "metadata": {},
     "outputs": [
      {
       "output_type": "stream",
       "stream": "stdout",
       "text": [
        "[ 0.   0.5  1.   1.5]\n",
        "[ 0.  0.  0.  0.  0.  0.  0.]\n",
        "[[ 1.  1.  1.  1.]\n",
        " [ 1.  1.  1.  1.]\n",
        " [ 1.  1.  1.  1.]]\n"
       ]
      }
     ],
     "prompt_number": 3
    },
    {
     "cell_type": "code",
     "collapsed": false,
     "input": [
      "# Numpy operates on arrays (np.sin etc. are called numpy universal functions or ufuncs)\n",
      "x = np.arange(5)\n",
      "y = np.sin(x)\n",
      "print x\n",
      "print y"
     ],
     "language": "python",
     "metadata": {},
     "outputs": [
      {
       "output_type": "stream",
       "stream": "stdout",
       "text": [
        "[0 1 2 3 4]\n",
        "[ 0.          0.84147098  0.90929743  0.14112001 -0.7568025 ]\n"
       ]
      }
     ],
     "prompt_number": 4
    },
    {
     "cell_type": "code",
     "collapsed": false,
     "input": [
      "# Numpy array operations loop over elements in C, so it's fast\n",
      "x = np.arange(0, 10, 1e6)\n",
      "%timeit np.sin(x)"
     ],
     "language": "python",
     "metadata": {},
     "outputs": [
      {
       "output_type": "stream",
       "stream": "stdout",
       "text": [
        "1000000 loops, best of 3: 1.51 us per loop\n"
       ]
      }
     ],
     "prompt_number": 5
    },
    {
     "cell_type": "code",
     "collapsed": false,
     "input": [
      "# Numpy has some data analysis stuff, like random number generation, fft, text-file I/O\n",
      "x = np.random.random(1e6)\n",
      "y = np.fft.fft(x)"
     ],
     "language": "python",
     "metadata": {},
     "outputs": [],
     "prompt_number": 6
    },
    {
     "cell_type": "heading",
     "level": 3,
     "metadata": {},
     "source": [
      "scipy"
     ]
    },
    {
     "cell_type": "code",
     "collapsed": false,
     "input": [
      "import scipy.stats\n",
      "import scipy.optimize\n",
      "import scipy.integrate"
     ],
     "language": "python",
     "metadata": {},
     "outputs": [],
     "prompt_number": 7
    },
    {
     "cell_type": "heading",
     "level": 3,
     "metadata": {},
     "source": [
      "matplotlib"
     ]
    },
    {
     "cell_type": "code",
     "collapsed": false,
     "input": [
      "import matplotlib.pyplot as plt"
     ],
     "language": "python",
     "metadata": {},
     "outputs": [],
     "prompt_number": 8
    },
    {
     "cell_type": "heading",
     "level": 3,
     "metadata": {},
     "source": [
      "pandas"
     ]
    },
    {
     "cell_type": "code",
     "collapsed": false,
     "input": [
      "import pandas as pd"
     ],
     "language": "python",
     "metadata": {},
     "outputs": [],
     "prompt_number": 9
    },
    {
     "cell_type": "heading",
     "level": 3,
     "metadata": {},
     "source": [
      "scikit-image (skimage)"
     ]
    },
    {
     "cell_type": "code",
     "collapsed": false,
     "input": [
      "import skimage"
     ],
     "language": "python",
     "metadata": {},
     "outputs": [],
     "prompt_number": 10
    },
    {
     "cell_type": "heading",
     "level": 3,
     "metadata": {},
     "source": [
      "scikit-learn (sklearn)"
     ]
    },
    {
     "cell_type": "code",
     "collapsed": false,
     "input": [
      "import sklearn"
     ],
     "language": "python",
     "metadata": {},
     "outputs": [],
     "prompt_number": 11
    }
   ],
   "metadata": {}
  }
 ]
}