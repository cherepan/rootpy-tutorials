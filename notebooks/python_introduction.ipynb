{
 "metadata": {
  "name": "python_introduction"
 },
 "nbformat": 3,
 "nbformat_minor": 0,
 "worksheets": [
  {
   "cells": [
    {
     "cell_type": "heading",
     "level": 1,
     "metadata": {},
     "source": [
      "Python and IPython Tutorial"
     ]
    },
    {
     "cell_type": "markdown",
     "metadata": {},
     "source": [
      "This is a basic introduction to [Python](http://www.python.org) and [IPython](http://ipython.org).\n",
      "\n",
      "This is an [IPython](http://ipython.org) [notebook](http://ipython.org/ipython-doc/dev/interactive/htmlnotebook.html),\n",
      "i.e. to learn you can execute and modify the examples to learn Python and IPython."
     ]
    },
    {
     "cell_type": "heading",
     "level": 2,
     "metadata": {},
     "source": [
      "Python"
     ]
    },
    {
     "cell_type": "heading",
     "level": 3,
     "metadata": {},
     "source": [
      "How to run python code"
     ]
    },
    {
     "cell_type": "markdown",
     "metadata": {},
     "source": [
      "[Python](www.python.org) is a general-purpose programming language.\n",
      "\n",
      "Python is interpreted, you can use the interactive python shell like this:\n",
      "\n",
      "<pre><code class=\"python\"> \n",
      "$ python\n",
      "Python 2.7.3 (default, Oct 22 2012, 20:01:15) \n",
      "[GCC 4.2.1 Compatible Apple Clang 4.0 ((tags/Apple/clang-421.0.60))] on darwin\n",
      "Type \"help\", \"copyright\", \"credits\" or \"license\" for more information.\n",
      ">>> result = 3 + 4\n",
      ">>> result\n",
      "7\n",
      ">>> print('Result: %s' % result)\n",
      "Result: 7\n",
      ">>> # Use exit() or Ctrl-D (i.e. EOF) to exit\n",
      ">>> exit()\n",
      "$\n",
      "</pre>\n",
      "\n",
      "Or you can write a script and execute it like this:\n",
      "\n",
      "<pre><code class=\"python\"> \n",
      "$ cat compute_result.py \n",
      "\"\"\"Compute something and print it on the screen\"\"\"\n",
      "result = 3 + 4\n",
      "print('Result: %s' % result)\n",
      "$ python compute_result.py \n",
      "Result: 7\n",
      "$\n",
      "</pre>\n",
      "\n",
      "Because Python is interpreted, you can easily make a command line tool:\n",
      "\n",
      "<pre><code class=\"python\">\n",
      "#!/usr/bin/env python\n",
      "import argparse\n",
      "import math\n",
      "\n",
      "# Parse command line arguments\n",
      "parser = argparse.ArgumentParser(description='Compute tail p-value of the normal distribution')\n",
      "parser.add_argument('zvalue', type=float,\n",
      "                   help='z-value for which you want the corresponding p-value')\n",
      "parser.add_argument('-m', '--mean', type=float, default=0,\n",
      "                   help='Mean of the normal distribution')\n",
      "parser.add_argument('-s', '--sigma', type=float, default=1,\n",
      "                   help='Witdh (standard deviation) of the normal distribution')\n",
      "args = parser.parse_args()\n",
      "\n",
      "# Compute and print pvalue\n",
      "# Reference: http://en.wikipedia.org/wiki/Normal_distribution\n",
      "chi = (args.zvalue - args.mean) / args.sigma\n",
      "pvalue = 0.5 * (1 - math.erf(chi / math.sqrt(2)))\n",
      "print('p-value: %s' % pvalue)\n",
      "</pre>\n",
      "\n",
      "Then you just use it, no need to compile because Python is interpreted:\n",
      "\n",
      "<pre>\n",
      "$ chmod +x pvalue_normal_dist\n",
      "$ ./pvalue_normal_dist  \n",
      "usage: pvalue_normal_dist [-h] [-m MEAN] [-s SIGMA] zvalue\n",
      "pvalue_normal_dist: error: too few arguments\n",
      "$ ./pvalue_normal_dist -h\n",
      "usage: pvalue_normal_dist [-h] [-m MEAN] [-s SIGMA] zvalue\n",
      "\n",
      "Compute tail p-value of the normal distribution\n",
      "\n",
      "positional arguments:\n",
      "  zvalue                z-value for which you want the corresponding p-value\n",
      "\n",
      "optional arguments:\n",
      "  -h, --help            show this help message and exit\n",
      "  -m MEAN, --mean MEAN  Mean of the normal distribution\n",
      "  -s SIGMA, --sigma SIGMA\n",
      "                        Witdh (standard deviation) of the normal distribution\n",
      "$ ./pvalue_normal_dist 0 \n",
      "p-value: 0.5\n",
      "$ ./pvalue_normal_dist 1\n",
      "p-value: 0.158655253931\n",
      "$ ./pvalue_normal_dist -m 1 -sigma 2 3\n",
      "usage: pvalue_normal_dist [-h] [-m MEAN] [-s SIGMA] zvalue\n",
      "pvalue_normal_dist: error: argument -s/--sigma: invalid float value: 'igma'\n",
      "$ ./pvalue_normal_dist -m 1 --sigma 2 3\n",
      "p-value: 0.158655253931\n",
      "$ ./pvalue_normal_dist 3 -m 1 --sigma 2  \n",
      "p-value: 0.158655253931\n",
      "</pre>\n",
      "\n",
      "Note how we imported and used the [argparse](http://docs.python.org/2.7/library/argparse.html) and [math](http://docs.python.org/2/library/math.html) modules from the Python standard library. Python is a great language, but another important factor why it makes you productive is the huge zoo of packages where others have implemented stuff for you. Currently the [Python packaging index](http://pypi.python.org/pypi) contains 26,000 packages."
     ]
    },
    {
     "cell_type": "heading",
     "level": 3,
     "metadata": {},
     "source": [
      "What's a Python script, program, module, package?"
     ]
    },
    {
     "cell_type": "markdown",
     "metadata": {},
     "source": [
      "* A python script is a text file containing python code, you can execute it with `python myscript.py`\n",
      "* Some people use python script and python program interchangeably. Some people take python program to mean that it is executable.\n",
      "To make a python script executable you have to add `!#/usr/bin/env python` as the first line and call `chmod +x myscript.py`. If you don't want the users to care that the program is written in python, you can leave the `.py` off the filename, although then your editor might not automatically recognize that you are editing a Python file and e.g. syntax highlighting might not work until you explicitly tell your editor that this is a Python file.\n",
      "* A python module is a `.py` file that includes Python code. Here, the `.py` extension is required, so that when you write `import mymodule` in another module or script, the Python interpreter knows what file to look for. So technically a Python module and script are pretty much the same thing, conceptually the difference is that typically scripts are written to be executed from the command line and actually do something, whereas modules define functions, classes and other things and are written to be imported and used from other modules and scripts.\n",
      "* A python package is a folder (a.k.a. directory) in your file system that contains a Python module with the special name `__init__.py` and then any number of Python modules or sub-packages. As an example, here's the contents of the Scipy package:  https://github.com/scipy/scipy/tree/master/scipy"
     ]
    },
    {
     "cell_type": "heading",
     "level": 3,
     "metadata": {},
     "source": [
      "IPython for interactive data analysis and for coding"
     ]
    },
    {
     "cell_type": "markdown",
     "metadata": {},
     "source": [
      "[IPython](http://ipython.org) is a *very* powerful interactive Python shell. There's three ways you can use it:\n",
      "\n",
      "<pre><code class=bash>\n",
      "$ ipython # start IPython shell in the terminal\n",
      "$ ipython qtconsole # start IPython shell in a QT window\n",
      "$ ipython notebook # start IPython in your web-browser\n",
      "</pre>\n",
      "\n",
      "You can use IPython just like the normal Python shell:\n",
      "\n",
      "<pre>\n",
      "$ ipython\n",
      "Python 2.7.3 (default, Oct 22 2012, 20:01:15) \n",
      "Type \"copyright\", \"credits\" or \"license\" for more information.\n",
      "\n",
      "IPython 0.14.dev -- An enhanced Interactive Python.\n",
      "?         -> Introduction and overview of IPython's features.\n",
      "%quickref -> Quick reference.\n",
      "help      -> Python's own help system.\n",
      "object?   -> Details about 'object', use 'object??' for extra details.\n",
      "\n",
      "In [1]: 3 + 4\n",
      "Out[1]: 7\n",
      "\n",
      "In [2]: # Use exit() or Ctrl-D (i.e. EOF) to exit\n",
      "Do you really want to exit ([y]/n)? \n",
      "$ # Back at the shell\n",
      "</pre>\n",
      "\n",
      "This looks similar to the normal python shell, except that IPython uses color (not shown here) and numbers the input and output, but actually IPython has many features that make using it a pleasure for interactive data analysis. I'll just showcase a few here.\n",
      "\n",
      "List variables with %whos:\n",
      "\n",
      "<pre>\n",
      "In [1]: alpha = 123\n",
      "\n",
      "In [2]: beta = 'test'\n",
      "\n",
      "In [3]: %whos\n",
      "Variable   Type        Data/Info\n",
      "--------------------------------\n",
      "alpha      int         123\n",
      "beta       str         test\n",
      "</pre>\n",
      "\n",
      "Adding ? to an object (everything in Python is an object) to show a docstring and ?? to show the source code if possible:\n",
      "\n",
      "    In [15]: def square(x):\n",
      "       ....:     \"\"\"Compute the square of a number x\"\"\"\n",
      "       ....:     return x ** 2\n",
      "       ....: \n",
      "    \n",
      "    In [16]: square?\n",
      "    Type:       function\n",
      "    String Form:<function square at 0x1056a66e0>\n",
      "    File:       /Users/deil/code/rootpy/docs/tutorials/scientific_python/<ipython-input-15-81a130f2cb08>\n",
      "    Definition: square(x)\n",
      "    Docstring:  Compute the square of a number x\n",
      "    \n",
      "    In [17]: square??\n",
      "    Type:       function\n",
      "    String Form:<function square at 0x1056a66e0>\n",
      "    File:       /Users/deil/code/rootpy/docs/tutorials/scientific_python/<ipython-input-15-81a130f2cb08>\n",
      "    Definition: square(x)\n",
      "    Source:\n",
      "    def square(x):\n",
      "        \"\"\"Compute the square of a number x\"\"\"\n",
      "        return x ** 2\n",
      "    \n",
      "    In [18]: list?\n",
      "    Type:       type\n",
      "    String Form:<type 'list'>\n",
      "    Namespace:  Python builtin\n",
      "    Docstring:\n",
      "    list() -> new empty list\n",
      "    list(iterable) -> new list initialized from iterable's items\n",
      "    \n",
      "    In [19]: list??\n",
      "    Type:       type\n",
      "    String Form:<type 'list'>\n",
      "    Namespace:  Python builtin\n",
      "    Docstring:\n",
      "    list() -> new empty list\n",
      "    list(iterable) -> new list initialized from iterable's items\n",
      "\n",
      "You can also use ? and * to search for names:\n",
      "<pre>\n",
      "In [23]: import numpy as np\n",
      "\n",
      "In [24]: np.*save*?\n",
      "np.save\n",
      "np.savetxt\n",
      "np.savez\n",
      "np.savez_compressed\n",
      "</pre>\n",
      "\n",
      "\n",
      "Use tab completion on objects (everything in Python is an object) to find available methods:\n",
      "\n",
      "<pre>\n",
      "In [10]: a = [1, 2, 3]\n",
      "\n",
      "In [11]: a. # type tab key\n",
      "a.append   a.count    a.extend   a.index    a.insert   a.pop      a.remove   a.reverse  a.sort     \n",
      "\n",
      "In [11]: a. # you can continue typing here, input 11 is not executed yet\n",
      "</pre>\n",
      "\n",
      "Do an interactive demonstration of these things:\n",
      "* Shell commands: cd, ls, pwd, rm, echo, !echo\n",
      "* %run, %paste, %hist\n",
      "\n",
      "There's many great IPython features that we don't cover here (like debugging, logging, timing, profiling, ...). To learn about those read the html documentation or from within IPython execute of of these:\n",
      "\n",
      "<pre>\n",
      "?         -> Introduction and overview of IPython's features.\n",
      "%quickref -> Quick reference.\n",
      "%magic    -> IPython's 'magic' functions\n",
      "</pre>"
     ]
    },
    {
     "cell_type": "heading",
     "level": 3,
     "metadata": {},
     "source": [
      "The IPython notebook"
     ]
    },
    {
     "cell_type": "markdown",
     "metadata": {},
     "source": [
      "The [IPython notebook](http://ipython.org/ipython-doc/dev/interactive/htmlnotebook.html) is inspired by the Mathematica notebook (demonstrate quickly): You write input cells, execute them and see the output cells. But it runs in the browser and is free software. You can add some heading, text or markdown cells to document your work and save the notebook as an `.ipynb` file, which you can share with your colleague or render as html or pdf and send if they only need a static version (i.e. don't want to modify and execute the notebook).\n",
      "\n",
      "http://nbviewer.ipython.org/urls/raw.github.com/ipython/ipython/master/docs/examples/notebooks/00_notebook_tour.ipynb\n",
      "\n",
      "IPython notebooks are a very recent development (2011), I've used them for a few months and find them a great research and teaching tool, but some things aren't implemented yet, e.g.\n",
      "\n",
      "* No file browser (opening / saving notebooks in folders other than the one where you started the notebook server is not possible)\n",
      "* No interactive graphics in the browser (requires matplotlib <-> Javascript integration)\n",
      "* Reading and browsing help pages is not very nice in my opinion\n",
      "* Tools for notebook conversion, running, testing are not in the main IPython repo yet\n",
      "\n",
      "The rest of this tutorial will be in the IPython notebook.\n",
      "Unless the network is too slow, in which case please simply open the html version of this notebook in your browser and then copy & paste code into a terminal IPython session."
     ]
    },
    {
     "cell_type": "heading",
     "level": 3,
     "metadata": {},
     "source": [
      "The Python Language"
     ]
    },
    {
     "cell_type": "heading",
     "level": 4,
     "metadata": {},
     "source": [
      "Variables"
     ]
    },
    {
     "cell_type": "code",
     "collapsed": false,
     "input": [
      "# In Python variables are different from C / C++\n",
      "# All variables are references to objects on the heap (similar to Java)\n",
      "# Python garbage collects objects with zero references for you\n",
      "# This is a bit mind-boggling if you haven't seen this before and thought about what happens.\n",
      "# 99% of the time things just work as you'd expect, don't worry about it.\n",
      "a = 42\n",
      "b = \"hello\"\n",
      "c = b\n",
      "b = \"world\"\n",
      "d = [1, 2, 3]\n",
      "e = d\n",
      "d.append(4)\n",
      "for var in [a, b, c, d, e]:\n",
      "    print var"
     ],
     "language": "python",
     "metadata": {},
     "outputs": [
      {
       "output_type": "stream",
       "stream": "stdout",
       "text": [
        "42\n",
        "world\n",
        "hello\n",
        "[1, 2, 3, 4]\n",
        "[1, 2, 3, 4]\n"
       ]
      }
     ],
     "prompt_number": 1
    },
    {
     "cell_type": "code",
     "collapsed": false,
     "input": [
      "a = [1, 2, 3]\n",
      "b = copy(a)\n",
      "a.append(4)\n",
      "print a\n",
      "print b"
     ],
     "language": "python",
     "metadata": {},
     "outputs": [
      {
       "ename": "NameError",
       "evalue": "name 'copy' is not defined",
       "output_type": "pyerr",
       "traceback": [
        "\u001b[0;31m---------------------------------------------------------------------------\u001b[0m\n\u001b[0;31mNameError\u001b[0m                                 Traceback (most recent call last)",
        "\u001b[0;32m<ipython-input-2-1fd02b622cc4>\u001b[0m in \u001b[0;36m<module>\u001b[0;34m()\u001b[0m\n\u001b[1;32m      1\u001b[0m \u001b[0ma\u001b[0m \u001b[0;34m=\u001b[0m \u001b[0;34m[\u001b[0m\u001b[0;36m1\u001b[0m\u001b[0;34m,\u001b[0m \u001b[0;36m2\u001b[0m\u001b[0;34m,\u001b[0m \u001b[0;36m3\u001b[0m\u001b[0;34m]\u001b[0m\u001b[0;34m\u001b[0m\u001b[0m\n\u001b[0;32m----> 2\u001b[0;31m \u001b[0mb\u001b[0m \u001b[0;34m=\u001b[0m \u001b[0mcopy\u001b[0m\u001b[0;34m(\u001b[0m\u001b[0ma\u001b[0m\u001b[0;34m)\u001b[0m\u001b[0;34m\u001b[0m\u001b[0m\n\u001b[0m\u001b[1;32m      3\u001b[0m \u001b[0ma\u001b[0m\u001b[0;34m.\u001b[0m\u001b[0mappend\u001b[0m\u001b[0;34m(\u001b[0m\u001b[0;36m4\u001b[0m\u001b[0;34m)\u001b[0m\u001b[0;34m\u001b[0m\u001b[0m\n\u001b[1;32m      4\u001b[0m \u001b[0;32mprint\u001b[0m \u001b[0ma\u001b[0m\u001b[0;34m\u001b[0m\u001b[0m\n\u001b[1;32m      5\u001b[0m \u001b[0;32mprint\u001b[0m \u001b[0mb\u001b[0m\u001b[0;34m\u001b[0m\u001b[0m\n",
        "\u001b[0;31mNameError\u001b[0m: name 'copy' is not defined"
       ]
      }
     ],
     "prompt_number": 2
    },
    {
     "cell_type": "code",
     "collapsed": false,
     "input": [
      "# Use this cell to try creating your own variables (i.e. objects and references)"
     ],
     "language": "python",
     "metadata": {},
     "outputs": [],
     "prompt_number": 3
    },
    {
     "cell_type": "heading",
     "level": 4,
     "metadata": {},
     "source": [
      "References are dynamic, everything is an object (a.k.a. Python has strong types)"
     ]
    },
    {
     "cell_type": "code",
     "collapsed": false,
     "input": [
      "a, b, c = 42, 'hello', [1, 2, 3]\n",
      "type(a), type(b), type(c)"
     ],
     "language": "python",
     "metadata": {},
     "outputs": [
      {
       "output_type": "pyout",
       "prompt_number": 4,
       "text": [
        "(int, str, list)"
       ]
      }
     ],
     "prompt_number": 4
    },
    {
     "cell_type": "code",
     "collapsed": false,
     "input": [
      "print 5 / 2\n",
      "print 5. / 2\n",
      "print 3 * 'a'\n",
      "print 3 * '1'\n",
      "print 3 + '1'"
     ],
     "language": "python",
     "metadata": {},
     "outputs": [
      {
       "ename": "TypeError",
       "evalue": "unsupported operand type(s) for +: 'int' and 'str'",
       "output_type": "pyerr",
       "traceback": [
        "\u001b[0;31m---------------------------------------------------------------------------\u001b[0m\n\u001b[0;31mTypeError\u001b[0m                                 Traceback (most recent call last)",
        "\u001b[0;32m<ipython-input-5-1485e976897f>\u001b[0m in \u001b[0;36m<module>\u001b[0;34m()\u001b[0m\n\u001b[1;32m      3\u001b[0m \u001b[0;32mprint\u001b[0m \u001b[0;36m3\u001b[0m \u001b[0;34m*\u001b[0m \u001b[0;34m'a'\u001b[0m\u001b[0;34m\u001b[0m\u001b[0m\n\u001b[1;32m      4\u001b[0m \u001b[0;32mprint\u001b[0m \u001b[0;36m3\u001b[0m \u001b[0;34m*\u001b[0m \u001b[0;34m'1'\u001b[0m\u001b[0;34m\u001b[0m\u001b[0m\n\u001b[0;32m----> 5\u001b[0;31m \u001b[0;32mprint\u001b[0m \u001b[0;36m3\u001b[0m \u001b[0;34m+\u001b[0m \u001b[0;34m'1'\u001b[0m\u001b[0;34m\u001b[0m\u001b[0m\n\u001b[0m",
        "\u001b[0;31mTypeError\u001b[0m: unsupported operand type(s) for +: 'int' and 'str'"
       ]
      },
      {
       "output_type": "stream",
       "stream": "stdout",
       "text": [
        "2\n",
        "2.5\n",
        "aaa\n",
        "111\n"
       ]
      }
     ],
     "prompt_number": 5
    },
    {
     "cell_type": "heading",
     "level": 4,
     "metadata": {},
     "source": [
      "If-Statement"
     ]
    },
    {
     "cell_type": "code",
     "collapsed": false,
     "input": [
      "x = 10\n",
      "\n",
      "if x > 0:\n",
      "    print 'positive'\n",
      "    print 'line'\n",
      "elif x == 0:\n",
      "    print 'zero'\n",
      "else:\n",
      "    print 'negative'"
     ],
     "language": "python",
     "metadata": {},
     "outputs": [
      {
       "output_type": "stream",
       "stream": "stdout",
       "text": [
        "positive\n",
        "line\n"
       ]
      }
     ],
     "prompt_number": 6
    },
    {
     "cell_type": "heading",
     "level": 4,
     "metadata": {},
     "source": [
      "Lists and for loops"
     ]
    },
    {
     "cell_type": "code",
     "collapsed": false,
     "input": [
      "items = [1, 'a', 'something', [1, 2, 3]]\n",
      "\n",
      "for item in items:\n",
      "    print item"
     ],
     "language": "python",
     "metadata": {},
     "outputs": [
      {
       "output_type": "stream",
       "stream": "stdout",
       "text": [
        "1\n",
        "a\n",
        "something\n",
        "[1, 2, 3]\n"
       ]
      }
     ],
     "prompt_number": 7
    },
    {
     "cell_type": "code",
     "collapsed": false,
     "input": [
      "import os.path\n",
      "paths = os.listdir('.')\n",
      "print paths\n",
      "\n",
      "for path in paths:\n",
      "    # Here you could do whatever you want with the filenames\n",
      "    print path"
     ],
     "language": "python",
     "metadata": {},
     "outputs": [
      {
       "output_type": "stream",
       "stream": "stdout",
       "text": [
        "['argparse.pyc', 'compute_result.py', 'pvalue_normal_dist', 'python_introduction.ipynb', 'run_all_empty_cell_issue.ipynb', 'scientific_python.ipynb']\n",
        "argparse.pyc\n",
        "compute_result.py\n",
        "pvalue_normal_dist\n",
        "python_introduction.ipynb\n",
        "run_all_empty_cell_issue.ipynb\n",
        "scientific_python.ipynb\n"
       ]
      }
     ],
     "prompt_number": 8
    },
    {
     "cell_type": "heading",
     "level": 4,
     "metadata": {},
     "source": [
      "Dicts"
     ]
    },
    {
     "cell_type": "code",
     "collapsed": false,
     "input": [
      "print {'a':42, 'b':'something', 'c':[1, 2, 3]}\n",
      "d = dict(a=42, b='something', c=[1, 2, 3])\n",
      "print d\n",
      "\n",
      "d['q'] = 99\n",
      "\n",
      "print d['a'], d['q']\n",
      "print d['non_existent_key']"
     ],
     "language": "python",
     "metadata": {},
     "outputs": [
      {
       "ename": "KeyError",
       "evalue": "'non_existent_key'",
       "output_type": "pyerr",
       "traceback": [
        "\u001b[0;31m---------------------------------------------------------------------------\u001b[0m\n\u001b[0;31mKeyError\u001b[0m                                  Traceback (most recent call last)",
        "\u001b[0;32m<ipython-input-9-db73f485fb9f>\u001b[0m in \u001b[0;36m<module>\u001b[0;34m()\u001b[0m\n\u001b[1;32m      6\u001b[0m \u001b[0;34m\u001b[0m\u001b[0m\n\u001b[1;32m      7\u001b[0m \u001b[0;32mprint\u001b[0m \u001b[0md\u001b[0m\u001b[0;34m[\u001b[0m\u001b[0;34m'a'\u001b[0m\u001b[0;34m]\u001b[0m\u001b[0;34m,\u001b[0m \u001b[0md\u001b[0m\u001b[0;34m[\u001b[0m\u001b[0;34m'q'\u001b[0m\u001b[0;34m]\u001b[0m\u001b[0;34m\u001b[0m\u001b[0m\n\u001b[0;32m----> 8\u001b[0;31m \u001b[0;32mprint\u001b[0m \u001b[0md\u001b[0m\u001b[0;34m[\u001b[0m\u001b[0;34m'non_existent_key'\u001b[0m\u001b[0;34m]\u001b[0m\u001b[0;34m\u001b[0m\u001b[0m\n\u001b[0m",
        "\u001b[0;31mKeyError\u001b[0m: 'non_existent_key'"
       ]
      },
      {
       "output_type": "stream",
       "stream": "stdout",
       "text": [
        "{'a': 42, 'c': [1, 2, 3], 'b': 'something'}\n",
        "{'a': 42, 'c': [1, 2, 3], 'b': 'something'}\n",
        "42 99\n"
       ]
      }
     ],
     "prompt_number": 9
    },
    {
     "cell_type": "heading",
     "level": 4,
     "metadata": {},
     "source": [
      "Functions"
     ]
    },
    {
     "cell_type": "code",
     "collapsed": false,
     "input": [
      "def power(x, exponent=2):\n",
      "    return x ** exponent\n",
      "\n",
      "print power(3)\n",
      "print power(3, exponent=2)"
     ],
     "language": "python",
     "metadata": {},
     "outputs": [
      {
       "output_type": "stream",
       "stream": "stdout",
       "text": [
        "9\n",
        "9\n"
       ]
      }
     ],
     "prompt_number": 10
    },
    {
     "cell_type": "heading",
     "level": 4,
     "metadata": {},
     "source": [
      "Classes"
     ]
    },
    {
     "cell_type": "code",
     "collapsed": false,
     "input": [
      "class Point(object):\n",
      "    \n",
      "    def __init__(self, x=0, y=0):\n",
      "        self.x = x\n",
      "        self.y = y\n",
      "    \n",
      "    def norm(self):\n",
      "        return (self.x ** 2 + self.y ** 2) ** 0.5\n",
      "\n",
      "p = Point()\n",
      "print p.x, p.y, p.norm()\n",
      "\n",
      "p2 = Point(3, 4)\n",
      "print p2.x, p2.y, p2.norm()"
     ],
     "language": "python",
     "metadata": {},
     "outputs": [
      {
       "output_type": "stream",
       "stream": "stdout",
       "text": [
        "0 0 0.0\n",
        "3 4 5.0\n"
       ]
      }
     ],
     "prompt_number": 11
    },
    {
     "cell_type": "heading",
     "level": 4,
     "metadata": {},
     "source": [
      "Exceptions"
     ]
    },
    {
     "cell_type": "markdown",
     "metadata": {},
     "source": [
      "Exceptions (a.k.a. errors) are Python's way to deal with errors or exceptional circumstances.\n",
      "They are also used for flow control instead of if statements."
     ]
    },
    {
     "cell_type": "code",
     "collapsed": false,
     "input": [
      "!python -c 'import this' | grep Errors"
     ],
     "language": "python",
     "metadata": {},
     "outputs": [
      {
       "output_type": "stream",
       "stream": "stdout",
       "text": [
        "Errors should never pass silently.\r\n"
       ]
      }
     ],
     "prompt_number": 12
    },
    {
     "cell_type": "code",
     "collapsed": false,
     "input": [
      "# Python \n",
      "1 / 0"
     ],
     "language": "python",
     "metadata": {},
     "outputs": [
      {
       "ename": "ZeroDivisionError",
       "evalue": "integer division or modulo by zero",
       "output_type": "pyerr",
       "traceback": [
        "\u001b[0;31m---------------------------------------------------------------------------\u001b[0m\n\u001b[0;31mZeroDivisionError\u001b[0m                         Traceback (most recent call last)",
        "\u001b[0;32m<ipython-input-13-8b709ca4f550>\u001b[0m in \u001b[0;36m<module>\u001b[0;34m()\u001b[0m\n\u001b[1;32m      1\u001b[0m \u001b[0;31m# Python\u001b[0m\u001b[0;34m\u001b[0m\u001b[0;34m\u001b[0m\u001b[0m\n\u001b[0;32m----> 2\u001b[0;31m \u001b[0;36m1\u001b[0m \u001b[0;34m/\u001b[0m \u001b[0;36m0\u001b[0m\u001b[0;34m\u001b[0m\u001b[0m\n\u001b[0m",
        "\u001b[0;31mZeroDivisionError\u001b[0m: integer division or modulo by zero"
       ]
      }
     ],
     "prompt_number": 13
    },
    {
     "cell_type": "code",
     "collapsed": false,
     "input": [
      "def ratio(a, b):\n",
      "    result = a / b\n",
      "    return result\n",
      "\n",
      "print ratio(2, 3)\n",
      "print ratio(2, 0)\n",
      "print ratio(3, 4)"
     ],
     "language": "python",
     "metadata": {},
     "outputs": [
      {
       "ename": "ZeroDivisionError",
       "evalue": "integer division or modulo by zero",
       "output_type": "pyerr",
       "traceback": [
        "\u001b[0;31m---------------------------------------------------------------------------\u001b[0m\n\u001b[0;31mZeroDivisionError\u001b[0m                         Traceback (most recent call last)",
        "\u001b[0;32m<ipython-input-14-8004b8d009e5>\u001b[0m in \u001b[0;36m<module>\u001b[0;34m()\u001b[0m\n\u001b[1;32m      4\u001b[0m \u001b[0;34m\u001b[0m\u001b[0m\n\u001b[1;32m      5\u001b[0m \u001b[0;32mprint\u001b[0m \u001b[0mratio\u001b[0m\u001b[0;34m(\u001b[0m\u001b[0;36m2\u001b[0m\u001b[0;34m,\u001b[0m \u001b[0;36m3\u001b[0m\u001b[0;34m)\u001b[0m\u001b[0;34m\u001b[0m\u001b[0m\n\u001b[0;32m----> 6\u001b[0;31m \u001b[0;32mprint\u001b[0m \u001b[0mratio\u001b[0m\u001b[0;34m(\u001b[0m\u001b[0;36m2\u001b[0m\u001b[0;34m,\u001b[0m \u001b[0;36m0\u001b[0m\u001b[0;34m)\u001b[0m\u001b[0;34m\u001b[0m\u001b[0m\n\u001b[0m\u001b[1;32m      7\u001b[0m \u001b[0;32mprint\u001b[0m \u001b[0mratio\u001b[0m\u001b[0;34m(\u001b[0m\u001b[0;36m3\u001b[0m\u001b[0;34m,\u001b[0m \u001b[0;36m4\u001b[0m\u001b[0;34m)\u001b[0m\u001b[0;34m\u001b[0m\u001b[0m\n",
        "\u001b[0;32m<ipython-input-14-8004b8d009e5>\u001b[0m in \u001b[0;36mratio\u001b[0;34m(a, b)\u001b[0m\n\u001b[1;32m      1\u001b[0m \u001b[0;32mdef\u001b[0m \u001b[0mratio\u001b[0m\u001b[0;34m(\u001b[0m\u001b[0ma\u001b[0m\u001b[0;34m,\u001b[0m \u001b[0mb\u001b[0m\u001b[0;34m)\u001b[0m\u001b[0;34m:\u001b[0m\u001b[0;34m\u001b[0m\u001b[0m\n\u001b[0;32m----> 2\u001b[0;31m     \u001b[0mresult\u001b[0m \u001b[0;34m=\u001b[0m \u001b[0ma\u001b[0m \u001b[0;34m/\u001b[0m \u001b[0mb\u001b[0m\u001b[0;34m\u001b[0m\u001b[0m\n\u001b[0m\u001b[1;32m      3\u001b[0m     \u001b[0;32mreturn\u001b[0m \u001b[0mresult\u001b[0m\u001b[0;34m\u001b[0m\u001b[0m\n\u001b[1;32m      4\u001b[0m \u001b[0;34m\u001b[0m\u001b[0m\n\u001b[1;32m      5\u001b[0m \u001b[0;32mprint\u001b[0m \u001b[0mratio\u001b[0m\u001b[0;34m(\u001b[0m\u001b[0;36m2\u001b[0m\u001b[0;34m,\u001b[0m \u001b[0;36m3\u001b[0m\u001b[0;34m)\u001b[0m\u001b[0;34m\u001b[0m\u001b[0m\n",
        "\u001b[0;31mZeroDivisionError\u001b[0m: integer division or modulo by zero"
       ]
      },
      {
       "output_type": "stream",
       "stream": "stdout",
       "text": [
        "0\n"
       ]
      }
     ],
     "prompt_number": 14
    },
    {
     "cell_type": "code",
     "collapsed": false,
     "input": [
      "import numpy as np\n",
      "np.loadtxt('me_not_exist.txt')"
     ],
     "language": "python",
     "metadata": {},
     "outputs": [
      {
       "ename": "IOError",
       "evalue": "[Errno 2] No such file or directory: 'me_not_exist.txt'",
       "output_type": "pyerr",
       "traceback": [
        "\u001b[0;31m---------------------------------------------------------------------------\u001b[0m\n\u001b[0;31mIOError\u001b[0m                                   Traceback (most recent call last)",
        "\u001b[0;32m<ipython-input-15-9d958c213619>\u001b[0m in \u001b[0;36m<module>\u001b[0;34m()\u001b[0m\n\u001b[1;32m      1\u001b[0m \u001b[0;32mimport\u001b[0m \u001b[0mnumpy\u001b[0m \u001b[0;32mas\u001b[0m \u001b[0mnp\u001b[0m\u001b[0;34m\u001b[0m\u001b[0m\n\u001b[0;32m----> 2\u001b[0;31m \u001b[0mnp\u001b[0m\u001b[0;34m.\u001b[0m\u001b[0mloadtxt\u001b[0m\u001b[0;34m(\u001b[0m\u001b[0;34m'me_not_exist.txt'\u001b[0m\u001b[0;34m)\u001b[0m\u001b[0;34m\u001b[0m\u001b[0m\n\u001b[0m",
        "\u001b[0;32m/Users/deil/Library/Python/2.7/lib/python/site-packages/numpy/lib/npyio.pyc\u001b[0m in \u001b[0;36mloadtxt\u001b[0;34m(fname, dtype, comments, delimiter, converters, skiprows, usecols, unpack, ndmin)\u001b[0m\n\u001b[1;32m    713\u001b[0m                 \u001b[0mfh\u001b[0m \u001b[0;34m=\u001b[0m \u001b[0miter\u001b[0m\u001b[0;34m(\u001b[0m\u001b[0mbz2\u001b[0m\u001b[0;34m.\u001b[0m\u001b[0mBZ2File\u001b[0m\u001b[0;34m(\u001b[0m\u001b[0mfname\u001b[0m\u001b[0;34m)\u001b[0m\u001b[0;34m)\u001b[0m\u001b[0;34m\u001b[0m\u001b[0m\n\u001b[1;32m    714\u001b[0m             \u001b[0;32melse\u001b[0m\u001b[0;34m:\u001b[0m\u001b[0;34m\u001b[0m\u001b[0m\n\u001b[0;32m--> 715\u001b[0;31m                 \u001b[0mfh\u001b[0m \u001b[0;34m=\u001b[0m \u001b[0miter\u001b[0m\u001b[0;34m(\u001b[0m\u001b[0mopen\u001b[0m\u001b[0;34m(\u001b[0m\u001b[0mfname\u001b[0m\u001b[0;34m,\u001b[0m \u001b[0;34m'U'\u001b[0m\u001b[0;34m)\u001b[0m\u001b[0;34m)\u001b[0m\u001b[0;34m\u001b[0m\u001b[0m\n\u001b[0m\u001b[1;32m    716\u001b[0m         \u001b[0;32melse\u001b[0m\u001b[0;34m:\u001b[0m\u001b[0;34m\u001b[0m\u001b[0m\n\u001b[1;32m    717\u001b[0m             \u001b[0mfh\u001b[0m \u001b[0;34m=\u001b[0m \u001b[0miter\u001b[0m\u001b[0;34m(\u001b[0m\u001b[0mfname\u001b[0m\u001b[0;34m)\u001b[0m\u001b[0;34m\u001b[0m\u001b[0m\n",
        "\u001b[0;31mIOError\u001b[0m: [Errno 2] No such file or directory: 'me_not_exist.txt'"
       ]
      }
     ],
     "prompt_number": 15
    },
    {
     "cell_type": "heading",
     "level": 4,
     "metadata": {},
     "source": [
      "Handling Exceptions"
     ]
    },
    {
     "cell_type": "markdown",
     "metadata": {},
     "source": [
      "Handling exceptions is really more important for writing Python scripts and modules,\n",
      "to do the right thing if inputs are bad or resources like a file or network or database is missing."
     ]
    },
    {
     "cell_type": "code",
     "collapsed": false,
     "input": [
      "# Say you want to take the inverse of a bunch of numbers and not fail if it doesn't work for some\n",
      "x = [23, 42, 0, 99]\n",
      "\n",
      "y = []\n",
      "for _ in x:\n",
      "    try:\n",
      "        y.append(1. / _)\n",
      "    except ZeroDivisionError:\n",
      "        y.append(0)\n",
      "\n",
      "print y"
     ],
     "language": "python",
     "metadata": {},
     "outputs": [
      {
       "output_type": "stream",
       "stream": "stdout",
       "text": [
        "[0.043478260869565216, 0.023809523809523808, 0, 0.010101010101010102]\n"
       ]
      }
     ],
     "prompt_number": 16
    },
    {
     "cell_type": "heading",
     "level": 4,
     "metadata": {},
     "source": [
      "Playground"
     ]
    },
    {
     "cell_type": "markdown",
     "metadata": {},
     "source": [
      "That's it, now you can play with Python and IPython, or move on to the `scientific_python_introduction.ipynb`."
     ]
    },
    {
     "cell_type": "code",
     "collapsed": false,
     "input": [
      "# Try out stuff here!"
     ],
     "language": "python",
     "metadata": {},
     "outputs": [],
     "prompt_number": 17
    }
   ],
   "metadata": {}
  }
 ]
}