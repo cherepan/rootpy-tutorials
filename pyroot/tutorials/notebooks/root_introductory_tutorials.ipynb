{
 "metadata": {
  "name": "root_introductory_tutorials"
 },
 "nbformat": 3,
 "nbformat_minor": 0,
 "worksheets": [
  {
   "cells": [
    {
     "cell_type": "heading",
     "level": 1,
     "metadata": {},
     "source": [
      "ROOT Introductory Tutorials"
     ]
    },
    {
     "cell_type": "markdown",
     "metadata": {},
     "source": [
      "This is the IPython notebook version of http://root.cern.ch/drupal/content/introductory-tutorials .\n",
      "\n",
      "I did not copy over all the narrative text. Most things are self-explanatory though, I think .."
     ]
    },
    {
     "cell_type": "code",
     "collapsed": false,
     "input": [
      "# This is how you gain access to the ROOT package, which consists of a bunch of shared libraries.\n",
      "# Note that only the core shared libraries are loaded with ``import ROOT`` (for speed and to save memory),\n",
      "# PyROOT will do clever shared library loading in the background when you access some function or class\n",
      "# that is in a shared library that is not already loaded.\n",
      "import ROOT"
     ],
     "language": "python",
     "metadata": {},
     "outputs": [],
     "prompt_number": 1
    },
    {
     "cell_type": "heading",
     "level": 2,
     "metadata": {},
     "source": [
      "Meet a TTree"
     ]
    },
    {
     "cell_type": "code",
     "collapsed": false,
     "input": [
      "# Get an example ROOT data file from the web\n",
      "tfile = ROOT.TFile.Open('http://lcg-heppkg.web.cern.ch/lcg-heppkg/ROOT/eventdata.root', 'r')\n",
      "# The missing dictionary warnings are correct but can be ignored here."
     ],
     "language": "python",
     "metadata": {},
     "outputs": [],
     "prompt_number": 46
    },
    {
     "cell_type": "code",
     "collapsed": false,
     "input": [
      "# TODO: this prints on the console. How to make it print in the notebook?\n",
      "# List what is in the TFile\n",
      "tfile.ls()"
     ],
     "language": "python",
     "metadata": {},
     "outputs": [],
     "prompt_number": 47
    },
    {
     "cell_type": "raw",
     "metadata": {},
     "source": [
      "TWebFile**\t\thttp://lcg-heppkg.web.cern.ch/lcg-heppkg/ROOT/eventdata.root\t\n",
      " TWebFile*\t\thttp://lcg-heppkg.web.cern.ch/lcg-heppkg/ROOT/eventdata.root\t\n",
      "  KEY: TTree\tEventTree;1\tTutorial tree"
     ]
    },
    {
     "cell_type": "code",
     "collapsed": false,
     "input": [
      "# Get the TTree\n",
      "ttree = tfile.Get('EventTree')"
     ],
     "language": "python",
     "metadata": {},
     "outputs": [],
     "prompt_number": 48
    },
    {
     "cell_type": "code",
     "collapsed": false,
     "input": [
      "# TODO: this prints on the console. How to make it print in the notebook?\n",
      "# Print a TTree content summary\n",
      "ttree.Print()"
     ],
     "language": "python",
     "metadata": {},
     "outputs": [],
     "prompt_number": 49
    },
    {
     "cell_type": "raw",
     "metadata": {},
     "source": [
      "******************************************************************************\n",
      "*Tree    :EventTree : Tutorial tree                                          *\n",
      "*Entries :      200 : Total =        24688220 bytes  File  Size =    1183802 *\n",
      "*        :          : Tree compression factor =  20.90                       *\n",
      "******************************************************************************\n",
      "*Branch  :event                                                              *\n",
      "*Entries :      200 : BranchElement (see below)                              *\n",
      "*............................................................................*\n",
      "*Br    0 :fParticles : Int_t fParticles_                                     *\n",
      "*Entries :      200 : Total  Size=      10114 bytes  File Size  =        781 *\n",
      "*Baskets :        1 : Basket Size=      32000 bytes  Compression=   2.16     *\n",
      "*............................................................................*\n",
      "*Br    1 :fParticles.fPosX : Double_t fPosX[fParticles_]                     *\n",
      "*Entries :      200 : Total  Size=     185936 bytes  File Size  =     178891 *\n",
      "*Baskets :        6 : Basket Size=      32000 bytes  Compression=   1.04     *\n",
      "*............................................................................*\n",
      "*Br    2 :fParticles.fPosY : Double_t fPosY[fParticles_]                     *\n",
      "*Entries :      200 : Total  Size=     185936 bytes  File Size  =     170127 *\n",
      "*Baskets :        6 : Basket Size=      32000 bytes  Compression=   1.09     *\n",
      "*............................................................................*\n",
      "*Br    3 :fParticles.fPosZ : Double_t fPosZ[fParticles_]                     *\n",
      "*Entries :      200 : Total  Size=     185936 bytes  File Size  =     169249 *\n",
      "*Baskets :        6 : Basket Size=      32000 bytes  Compression=   1.10     *\n",
      "*............................................................................*\n",
      "*Br    4 :fParticles.fMomentum : Double_t fMomentum[fParticles_]             *\n",
      "*Entries :      200 : Total  Size=     185976 bytes  File Size  =     177298 *\n",
      "*Baskets :        6 : Basket Size=      32000 bytes  Compression=   1.05     *\n",
      "*............................................................................*\n",
      "*Br    5 :fParticles.fMomentumPhi : Double_t fMomentumPhi[fParticles_]       *\n",
      "*Entries :      200 : Total  Size=     186006 bytes  File Size  =     177631 *\n",
      "*Baskets :        6 : Basket Size=      32000 bytes  Compression=   1.04     *\n",
      "*............................................................................*\n",
      "*Br    6 :fParticles.fMomentumEta : Double_t fMomentumEta[fParticles_]       *\n",
      "*Entries :      200 : Total  Size=     186006 bytes  File Size  =     180142 *\n",
      "*Baskets :        6 : Basket Size=      32000 bytes  Compression=   1.03     *\n",
      "*............................................................................*\n",
      "*Br    7 :fParticles.fTags[128] : Long64_t fTags[fParticles_]                *\n",
      "*Entries :      200 : Total  Size=   23568022 bytes  File Size  =     125923 *\n",
      "*Baskets :      173 : Basket Size=      32000 bytes  Compression= 187.13     *\n",
      "*............................................................................*\n",
      "*Br    8 :fEventSize : Int_t                                                 *\n",
      "*Entries :      200 : Total  Size=       1380 bytes  File Size  =        651 *\n",
      "*Baskets :        1 : Basket Size=      32000 bytes  Compression=   1.35     *\n",
      "*............................................................................*"
     ]
    },
    {
     "cell_type": "heading",
     "level": 2,
     "metadata": {},
     "source": [
      "Accessing a TTree With a TBrowser"
     ]
    },
    {
     "cell_type": "code",
     "collapsed": false,
     "input": [
      "# Start a TBrowser (an interactive X11 window)\n",
      "# A TBrowser can be used to browse the file system and the ROOT file content\n",
      "# as well as inspect values and make plots\n",
      "# ... pretty powerful for interactive work.\n",
      "ROOT.TBrowser()"
     ],
     "language": "python",
     "metadata": {},
     "outputs": [
      {
       "output_type": "pyout",
       "prompt_number": 50,
       "text": [
        "<ROOT.TBrowser object (\"Browser\") at 0x7f7f574f39d0>"
       ]
      }
     ],
     "prompt_number": 50
    },
    {
     "cell_type": "markdown",
     "metadata": {},
     "source": [
      "Double-click on ``eventdata.root`` -> ``EventTree`` -> ``event`` -> ``fParticles`` -> ``fParticles.fPosZ`` to draw a histogram of thes ``fPosZ`` values of all events in the tree.\n",
      "\n",
      "Something like this should appear (this is on Mac OS X, on Linux and Microsoft Windows ROOT windows will look a bit different):\n",
      "\n",
      "![TBrowser Startup Window](files/files/root_introductory_tutorials/browser_hist_0.png)"
     ]
    },
    {
     "cell_type": "heading",
     "level": 2,
     "metadata": {},
     "source": [
      "Using TTree::Draw() to access a TTree"
     ]
    },
    {
     "cell_type": "markdown",
     "metadata": {},
     "source": [
      "Using [TTree::Draw()](http://root.cern.ch/root/html/TTree.html) it's very easy to plot histograms and apply cuts."
     ]
    },
    {
     "cell_type": "code",
     "collapsed": false,
     "input": [
      "# TODO: this prints on the console. How to make it print in the notebook?\n",
      "ttree.Draw('fPosY')"
     ],
     "language": "python",
     "metadata": {},
     "outputs": [],
     "prompt_number": 56
    },
    {
     "cell_type": "raw",
     "metadata": {},
     "source": [
      "Info in <TCanvas::MakeDefCanvas>:  created default TCanvas with name Canvas_1"
     ]
    },
    {
     "cell_type": "markdown",
     "metadata": {},
     "source": [
      "![Histogram for fPosY](files/files/root_introductory_tutorials/hist_posy_0.png)"
     ]
    },
    {
     "cell_type": "code",
     "collapsed": false,
     "input": [
      "# Issuing another Draw command to the same Canvas_1 as before will not update the canvas automatically.\n",
      "# You have two options:\n",
      "# * close the canvas before issuing this command\n",
      "# * click inside the canvas to update after issuing this command\n",
      "ttree.Draw('fPosY', 'fMomentum > 50')"
     ],
     "language": "python",
     "metadata": {},
     "outputs": [
      {
       "output_type": "pyout",
       "prompt_number": 57,
       "text": [
        "342L"
       ]
      }
     ],
     "prompt_number": 57
    },
    {
     "cell_type": "markdown",
     "metadata": {},
     "source": [
      "![Histogram for fPosY with cut fMomentum > 50](files/files/root_introductory_tutorials/hist_cut_posy_0_0.png)"
     ]
    },
    {
     "cell_type": "heading",
     "level": 2,
     "metadata": {},
     "source": [
      "TTree and Its Data"
     ]
    },
    {
     "cell_type": "code",
     "collapsed": false,
     "input": [
      "# TODO: Write rest of tutorial"
     ],
     "language": "python",
     "metadata": {},
     "outputs": []
    }
   ],
   "metadata": {}
  }
 ]
}