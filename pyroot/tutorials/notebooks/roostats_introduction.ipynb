{
 "metadata": {
  "name": "roostats_introduction"
 },
 "nbformat": 3,
 "nbformat_minor": 0,
 "worksheets": [
  {
   "cells": [
    {
     "cell_type": "heading",
     "level": 1,
     "metadata": {},
     "source": [
      "RooStats Introduction - An IPython Notebook"
     ]
    },
    {
     "cell_type": "markdown",
     "metadata": {},
     "source": [
      "This is a tutorial-style introduction to RooStats (\n",
      "[Reference](http://root.cern.ch/root/html/ROOFIT_ROOSTATS_Index.html),\n",
      "[Official Tutorials](http://root.cern.ch/root/html/tutorials/roostats/index.html),\n",
      "[Wiki](https://twiki.cern.ch/twiki/bin/view/RooStats/)), a package of statistical tools built on top of the [RooFit](http://root.cern.ch/drupal/content/roofit) modelling and fitting library in the [ROOT](http://root.cern.ch/drupal/) data analysis package.\n",
      "\n",
      "ROOT is developed by high-energy physicists at [CERN](http://cern.ch) and is the basis of all their data analysis. E.g. they recently used it to discover the Higgs particle ([Wikipedia](http://en.wikipedia.org/wiki/Higgs_boson), [ROOT plots](http://root.cern.ch/drupal/category/image-galleries/higgs-plots)) using the [Large Hadron Collider](http://public.web.cern.ch/public/en/lhc/lhc-en.html). They have spent [billions](http://en.wikipedia.org/wiki/Large_Hadron_Collider#Cost) on this and thought about their statistics methods for decades, so in Physics ROOT, RooFit and RooStats are the de-facto standard for data analyses. ROOT is also used in other fields, e.g. in high-energy astrophysics by the [Fermi](http://fermi.gsfc.nasa.gov) or [HESS](http://www.mpi-hd.mpg.de/hfm/HESS/) software, but e.g. in the rest of astronomy very few people know or even use it.\n",
      "\n",
      "Most physicists use RooStats and ROOT in general via [C++](http://en.wikipedia.org/wiki/C%2B%2B) and [CINT](http://root.cern.ch/drupal/content/cint), the ROOT C++ interpreter, simply because they haven't discovered the beauty of the [Python](http://en.wikipedia.org/wiki/Python_(programming_language)) programming language and the [IPython](http://ipython.org) interactive shell and notebook yet.\n",
      "\n",
      "So most documentation / tutorials you'll find on the web are for C++ / CINT, fortunately it's pretty easy to translate a C++ script into Python, so the C++ documentation is useful. Here's the RooStats Python tutorials I could find:\n",
      "\n",
      "* [Building HistFactory models using C++ and Python](http://ghl.web.cern.ch/ghl/html/HistFactoryDoc.html)\n",
      "* [BABAR Python tutorial by @piti118](http://piti118.github.com/babar_python_tutorial/)\n",
      "\n",
      "[My](https://github.com/cdeil) motivation for creating this notebook was to get to know RooStats better, but also to evaluate which methods to implement for the [astropy](http://www.astropy.org) and [gammalib](http://gammalib.sourceforge.net) packages."
     ]
    },
    {
     "cell_type": "heading",
     "level": 2,
     "metadata": {},
     "source": [
      "Getting Started"
     ]
    },
    {
     "cell_type": "heading",
     "level": 3,
     "metadata": {},
     "source": [
      "ROOT"
     ]
    },
    {
     "cell_type": "markdown",
     "metadata": {},
     "source": [
      "Let's get started already, here's how you compute something with RooStats:"
     ]
    },
    {
     "cell_type": "code",
     "collapsed": false,
     "input": [
      "import ROOT\n",
      "from ROOT import RooStats"
     ],
     "language": "python",
     "metadata": {},
     "outputs": [],
     "prompt_number": 36
    },
    {
     "cell_type": "code",
     "collapsed": false,
     "input": [
      "RooStats.SignificanceToPValue(3)"
     ],
     "language": "python",
     "metadata": {},
     "outputs": [
      {
       "output_type": "pyout",
       "prompt_number": 37,
       "text": [
        "0.0013498980316300959"
       ]
      }
     ],
     "prompt_number": 37
    },
    {
     "cell_type": "markdown",
     "metadata": {},
     "source": [
      "If you got an error, here are some things you have to do: Install ROOT (which includes RooFit and RooStats) on your machine. If you are on a Mac install [Macports](http://www.macports.org) and then type this at your terminal: `sudo port install root +fftw3 +python27`, then `source /opt/local/bin/thisroot.sh` and `ipython notebook` in the shell / directory where this `roostats_introduction.ipynb` file is.\n",
      "Piti wrote install instructions for Ubuntu and made a virtual machine [here](http://piti118.github.com/babar_python_tutorial/), if you are on some other Linux distribution that doesn't have a package for ROOT (most don't), you'll have to adapt the Ubuntu package names, but it should work similarly.\n",
      "\n",
      "Note that two files are important to make `import ROOT` work, both of them must be on your `PYTHONPATH`: `ROOT.py` and `libPyROOT.so`. And your `LD_LIBRARY_PATH` must be set so that the other ROOT libraries are found. See [How to use the Python PyROOT interpreter?](http://root.cern.ch/drupal/content/how-use-use-python-pyroot-interpreter) for further instructions."
     ]
    },
    {
     "cell_type": "heading",
     "level": 3,
     "metadata": {},
     "source": [
      "Numpy and scipy"
     ]
    },
    {
     "cell_type": "markdown",
     "metadata": {},
     "source": [
      "In a few places we will compare the results or speed of RooStats against numpy / scipy"
     ]
    },
    {
     "cell_type": "code",
     "collapsed": false,
     "input": [
      "import numpy as np\n",
      "import scipy.stats"
     ],
     "language": "python",
     "metadata": {},
     "outputs": [],
     "prompt_number": 35
    },
    {
     "cell_type": "code",
     "collapsed": false,
     "input": [
      "# The normal distribution survival function in scipy.stats performs the same computation\n",
      "# as RooStats.SignificanceToPValue(3)\n",
      "scipy.stats.norm.sf(3)"
     ],
     "language": "python",
     "metadata": {},
     "outputs": [
      {
       "output_type": "pyout",
       "prompt_number": 39,
       "text": [
        "0.0013498980316300933"
       ]
      }
     ],
     "prompt_number": 39
    },
    {
     "cell_type": "heading",
     "level": 2,
     "metadata": {},
     "source": [
      "Tutorials"
     ]
    },
    {
     "cell_type": "markdown",
     "metadata": {},
     "source": [
      "I made the rest of this notebook by simply going through the RooStats C++ [tutorials](http://root.cern.ch/root/html/tutorials/roostats/index.html) and [class reference](http://root.cern.ch/root/html/ROOFIT_ROOSTATS_Index.html). I didn't bother putting a lot of descriptions and references about the methods, because it would just duplicate the ROOT documentation. Use this notebook to experiment and go to the C++ documentation to read about the methods."
     ]
    },
    {
     "cell_type": "code",
     "collapsed": false,
     "input": [],
     "language": "python",
     "metadata": {},
     "outputs": []
    },
    {
     "cell_type": "heading",
     "level": 2,
     "metadata": {},
     "source": [
      "Speed"
     ]
    },
    {
     "cell_type": "heading",
     "level": 3,
     "metadata": {},
     "source": [
      "Is ROOT from Python slow?"
     ]
    },
    {
     "cell_type": "markdown",
     "metadata": {},
     "source": [
      "TODO:\n",
      "- PyRoot functions don't take numpy arrays as input / output, so looping has to be done in Python -> Lot's of function call overhead through complex Python / C wrapping layers.\n",
      "- sometimes is slow (cheap per-element computation)\n",
      "- sometimes as fast as C ("
     ]
    },
    {
     "cell_type": "markdown",
     "metadata": {},
     "source": [
      "For statistical calculations sometimes you don't care about speed. E.g. say you need to compute one upper limit using the Feldman & Cousins method for your paper, you probably don't care if it takes 10 milli-seconds or if you could compute faster."
     ]
    },
    {
     "cell_type": "code",
     "collapsed": false,
     "input": [
      "%%timeit fc = ROOT.TFeldmanCousins()\n",
      "NObserved, NBackground = 5, 3.3\n",
      "fc.CalculateUpperLimit(NObserved, NBackground)"
     ],
     "language": "python",
     "metadata": {},
     "outputs": [
      {
       "output_type": "stream",
       "stream": "stdout",
       "text": [
        "100 loops, best of 3: 8.19 ms per loop\n"
       ]
      }
     ],
     "prompt_number": 30
    },
    {
     "cell_type": "markdown",
     "metadata": {},
     "source": [
      "But often for statistical calculations speed does matter. Here's two examples:\n",
      "\n",
      "* You have 1000 x 1000 images of observed and background counts and you want to compute an upper limit image. Since it takes about 10 ms for one upper limit on my machine (for this NObserved and NBackground, for different number the computational cost can be very different), it would take about 15 minutes to compute the 1e6 upper limits.\n",
      "* Or say you want to check the coverage of the Feldman & Cousins method"
     ]
    },
    {
     "cell_type": "heading",
     "level": 3,
     "metadata": {},
     "source": [
      "Looping in Python vs C"
     ]
    },
    {
     "cell_type": "code",
     "collapsed": false,
     "input": [
      "# Looping in Python is slow\n",
      "%%timeit N = int(1e6); data = range(N)\n",
      "for element in data:\n",
      "    pass"
     ],
     "language": "python",
     "metadata": {},
     "outputs": [
      {
       "output_type": "stream",
       "stream": "stdout",
       "text": [
        "100 loops, best of 3: 13.4 ms per loop\n"
       ]
      }
     ],
     "prompt_number": 59
    },
    {
     "cell_type": "code",
     "collapsed": false,
     "input": [
      "# Typically you will call one or several functions in the loop\n",
      "# and this is also slow in Python because the input arguments\n",
      "# have to be converted from Python objects to (for numerical functions)\n",
      "# C data types like int or float, and at the end the function output\n",
      "# has to be converted back to Python objects\n",
      "%%timeit N = int(1e6); data = range(N)\n",
      "#from math import fabs, sqrt\n",
      "total = 0\n",
      "for element in data:\n",
      "    total += element#sqrt(fabs(element))"
     ],
     "language": "python",
     "metadata": {},
     "outputs": [
      {
       "output_type": "stream",
       "stream": "stdout",
       "text": [
        "100 loops, best of 3: 13.3 ms per loop\n"
       ]
      }
     ],
     "prompt_number": 67
    },
    {
     "cell_type": "code",
     "collapsed": false,
     "input": [
      "%%timeit import numpy as np; N = int(1e6); data = np.arange(N)\n",
      "# Looping in C ist fast. Here we create a numpy array\n",
      "# with a million entries and call it's sum method\n",
      "data.sum()\n",
      "# On my machine the Python version is 100 times slower than the numpy / C version\n",
      "# We didn't measure it here, but Python lists containing Python number objects\n",
      "# also use up more memory than a numpy array, which has for large arrays very little\n",
      "# overhead compared to a C implementation."
     ],
     "language": "python",
     "metadata": {},
     "outputs": [
      {
       "output_type": "stream",
       "stream": "stdout",
       "text": [
        "1000 loops, best of 3: 575 us per loop\n"
       ]
      }
     ],
     "prompt_number": 24
    },
    {
     "cell_type": "heading",
     "level": 3,
     "metadata": {},
     "source": [
      "Per-element function in Python vs C"
     ]
    },
    {
     "cell_type": "markdown",
     "metadata": {},
     "source": [
      "So looping in Python is slow. An eve\n",
      "and the function takes longer to execute than the Python overhead of looping and converting the input arguments\n",
      "If the time is mainly spent in a function call in a loop, \n",
      "per-element computation is slower than the time "
     ]
    },
    {
     "cell_type": "code",
     "collapsed": false,
     "input": [
      "%%timeit N = 1e3; data = np.random.randn(N)\n",
      "norm.sf(data)"
     ],
     "language": "python",
     "metadata": {},
     "outputs": [
      {
       "output_type": "stream",
       "stream": "stdout",
       "text": [
        "10000 loops, best of 3: 178 us per loop\n"
       ]
      }
     ],
     "prompt_number": 42
    },
    {
     "cell_type": "code",
     "collapsed": false,
     "input": [
      "%%timeit N = 1e3; np.random.seed(0); data = np.random.randn(N)\n",
      "p_values = norm.sf(data)\n",
      "#p_values.mean()"
     ],
     "language": "python",
     "metadata": {},
     "outputs": [
      {
       "output_type": "stream",
       "stream": "stdout",
       "text": [
        "1000 loops, best of 3: 179 us per loop\n"
       ]
      }
     ],
     "prompt_number": 56
    },
    {
     "cell_type": "code",
     "collapsed": false,
     "input": [
      "%%timeit N = 1e3; np.random.seed(0); data = np.random.randn(N)\n",
      "p_values = [RooStats.SignificanceToPValue(_) for _ in data]\n",
      "#sum(p_values) / N"
     ],
     "language": "python",
     "metadata": {},
     "outputs": [
      {
       "output_type": "stream",
       "stream": "stdout",
       "text": [
        "1000 loops, best of 3: 1.41 ms per loop\n"
       ]
      }
     ],
     "prompt_number": 57
    },
    {
     "cell_type": "code",
     "collapsed": false,
     "input": [],
     "language": "python",
     "metadata": {},
     "outputs": [
      {
       "output_type": "pyout",
       "prompt_number": 52,
       "text": [
        "0.51433353414383143"
       ]
      }
     ],
     "prompt_number": 52
    },
    {
     "cell_type": "code",
     "collapsed": false,
     "input": [
      "from math import sqrt\n",
      "sqrt(3)"
     ],
     "language": "python",
     "metadata": {},
     "outputs": [
      {
       "output_type": "pyout",
       "prompt_number": 61,
       "text": [
        "1.7320508075688772"
       ]
      }
     ],
     "prompt_number": 61
    },
    {
     "cell_type": "code",
     "collapsed": false,
     "input": [],
     "language": "python",
     "metadata": {},
     "outputs": []
    }
   ],
   "metadata": {}
  }
 ]
}